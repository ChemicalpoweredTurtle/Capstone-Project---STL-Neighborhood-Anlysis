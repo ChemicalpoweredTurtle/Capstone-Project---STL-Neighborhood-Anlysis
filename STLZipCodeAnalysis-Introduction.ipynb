{
 "cells": [
  {
   "cell_type": "markdown",
   "metadata": {},
   "source": [
    "# **Battle of Neighborhoods**"
   ]
  },
  {
   "cell_type": "markdown",
   "metadata": {},
   "source": [
    "## Saint Louis, Missouri "
   ]
  },
  {
   "cell_type": "markdown",
   "metadata": {},
   "source": [
    "## **Project Description:** \n",
    "Whenever people move to any other place, they explore the place and try to fetch as much information as possible about it. It can be the neighborhood, locality, market, price of the place and many more factors including neighborhood analysis. While many factors can be taken into account for when determining the optimal area in a given city, such as population rate, median house price, school ratings, crime rates, and others, the happiness of where one dwells is often determined by the experiences had in a location and the ease of having those experiences. Furthermore, while factoring in school ratings may be important for a young family with children, it may not be that important to a college student or young professional. <br>\n",
    "\n",
    "While there are many different hobbies and interests which appeal to people, food is a common connection for all groups of people. Often we seek comfort food in times of stress, share food when meeting new people, and celebrate important events with food. Few other things are universally common and celebrated as food. It is also a difficult but profitable buisness if the time is taken to maximize the chances of success. Much of the chance of success of any new business is location. <br>\n",
    "\n",
    "The goal of this project is to help a potential user pick an optimal area to open a new ethnic restaurante based on the on the variety and number of food venues in conjunction with a cluster analysis of the neighborhoods of the city. The idea is that areas with lower food diversity will have less competition for certain styles of cuisine. In addition, an area with fewer food venues, will naturally be a better place for any restaurant to open. This will save the user both time and effort as it will establish likely locations which will allow the user to then focus on certain areas of the city. <br>"
   ]
  },
  {
   "cell_type": "markdown",
   "metadata": {},
   "source": [
    "### **Data Sets and APIs:** \n",
    "\n",
    "• Foursquare API:\n",
    "The Foursquare API allows access to a database of more than 105 million places. The majority of the data for this project will come from that databased. It is already being used to get-tag photos, explore new areas, or just to determine a great place to get dinner. This API provides the ability to perform location search, location sharing and details about a business. \n",
    "\n",
    "• Work Flow:\n",
    "Given how spread out the city of Saint Louis is, it made more sense to work from zip codes opposed to area names. The necessary area names and zip codes have been web scraped using the beautifulsoup library. Geospactial coordinates were found using argis with geocoder. HTTP requests were made to the Foursquare API using the zip codes which were web scraped. The first 100 venues for each zipcode were pulled. Again, give the spread out nature of the city, the radius of the query was set to 5 miles. \n",
    "\n",
    "• Folium-Python visualization library would be used to observe the neighborhoods cluster distribution of Saint Louis over an interactive map. \n",
    "\n",
    "• Unsupervised machine learning algorithm, K-mean clustering, will be applied to determine the clusters of differnt zip codes from the different categories of places in each area. "
   ]
  },
  {
   "cell_type": "markdown",
   "metadata": {},
   "source": [
    "### **Python packages and Dependencies:** \n",
    "\n",
    "• Pandas - Library for Data Analysis\n",
    "\n",
    "• NumPy – Library to handle data in a vectorized manner\n",
    "\n",
    "• beautifulsoup – Library to web scraping activities \n",
    "\n",
    "• Geopy – To retrieve Location Data \n",
    "\n",
    "• Requests – Library to handle http requests\n",
    "\n",
    "• Matplotlib – Python Plotting Module \n",
    "\n",
    "• Sklearn – Python machine learning Library \n",
    "\n",
    "• Folium – Map rendering Library"
   ]
  },
  {
   "cell_type": "code",
   "execution_count": null,
   "metadata": {},
   "outputs": [],
   "source": []
  },
  {
   "cell_type": "code",
   "execution_count": null,
   "metadata": {},
   "outputs": [],
   "source": []
  }
 ],
 "metadata": {
  "kernelspec": {
   "display_name": "Python 3",
   "language": "python",
   "name": "python3"
  },
  "language_info": {
   "codemirror_mode": {
    "name": "ipython",
    "version": 3
   },
   "file_extension": ".py",
   "mimetype": "text/x-python",
   "name": "python",
   "nbconvert_exporter": "python",
   "pygments_lexer": "ipython3",
   "version": "3.7.3"
  }
 },
 "nbformat": 4,
 "nbformat_minor": 2
}
